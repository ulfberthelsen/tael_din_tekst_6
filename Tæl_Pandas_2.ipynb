{
 "cells": [
  {
   "cell_type": "markdown",
   "metadata": {},
   "source": [
    "# Pandas 2: Workflow og loops over dataframes\n",
    "***\n",
    "***\n",
    "Keywords: `work flow`, `data frames`, `loops`, `gem som csv` \n",
    "\n",
    "Nye Python-udtryk: `.loc[]`, `.reindex`, `.apply()`, `.describe()`, `.to_csv()`, `.iterrows()`, `.iteritems()`, `.map()`\n",
    "***\n",
    "***\n",
    "Når vi skal arbejde med digital tekstanalyse, er der mange fordele ved at arbejde med teksterne i `data frames`. Dels giver det en overskuelige håndtering tekster og metadata,  dels giver det stordriftsfordele i den forstand, at det er let at gennemføre operationer på mange tekster på en gang og efterfølgende gemme reultaterne i nye kolonner. \n",
    "\n",
    "Nedenfor gennemgår vi et minieksempel på, hvordan et komplet `work flow` kan se ud, fra de indledendende forberedelser til den færdige `data frame`. Undervejs skal vi se eksempler på forskellige måde at loope over indeholdet af rækker og kolonner.\n",
    "\n",
    "Nogle af elementerne vil være repetition af elementer fra tidligere notebooks."
   ]
  },
  {
   "cell_type": "markdown",
   "metadata": {},
   "source": [
    "# 1. Forberedelse"
   ]
  },
  {
   "cell_type": "markdown",
   "metadata": {},
   "source": [
    "### Dependencies\n",
    "Som altid begynder vi med at importere de nødvendige `libraries`. Vi skal bruge `os`, `Numpy` og `Pandas`, der importeres ved hjælp af `import`-kommandoen.\n",
    "\n",
    "`np` og `pd` er blot variabelnavne. Når vi bruger `import pandas as pd`, kan vi efterfølgende nøjes med at henvise til Pandas-pakken med `pd`."
   ]
  },
  {
   "cell_type": "code",
   "execution_count": null,
   "metadata": {},
   "outputs": [],
   "source": [
    "import os                      # os tillader os bl.a. finder filplaceringer på computeren\n",
    "import numpy as np             # Numpy leverer noget af matematikken, der ligger under Pandas \n",
    "import pandas as pd            # Pandas tillader os at importere, oprette og manipulere data frames\n",
    "from pandas import DataFrame   # Nogle libraries har under-biblioteker. Underbiblioteker importeres med from-kommandoen"
   ]
  },
  {
   "cell_type": "markdown",
   "metadata": {},
   "source": [
    "### Definition af pipelinefunktioner\n",
    "Herefter definerer vi de funktioner, vi skal bruge. Nedenfor har jeg genbrugt de to pipeline-funktioner, vi tidligere har arbejdet med. Det er en vigtig pointe at kode kan genbruges, og det er en god idé at gemme funktionalitet som funktioner. Funktioner er lette at genbruge, og I vil med tiden opbygge en samling af funktioner, der gør det let og overskueligt at lave nye analyser."
   ]
  },
  {
   "cell_type": "code",
   "execution_count": null,
   "metadata": {},
   "outputs": [],
   "source": [
    "def rens_ord(text_0):\n",
    "    text_1 = text_0.replace(\"\\n\",\" \")\n",
    "    text_2 = text_1.replace(\".\",\" \")\n",
    "    text_3 = text_2.replace(\",\",\" \")\n",
    "    text_4 = text_3.replace(\":\",\" \")\n",
    "    text_5 = text_4.replace(\"*\",\" \")\n",
    "    text_6 = text_5.replace(\"–\",\" \")\n",
    "    text_7 = text_6.replace(\"'\",\" \")\n",
    "    text_8 = text_7.replace(\"”\",\" \")\n",
    "    text_ren = text_8.replace(\"-\",\" \")\n",
    "    text_lav = text_ren.lower()\n",
    "    text_token = text_lav.split()\n",
    "    return text_token"
   ]
  },
  {
   "cell_type": "code",
   "execution_count": null,
   "metadata": {},
   "outputs": [],
   "source": [
    "def rens_sæt(text_0):\n",
    "    text_1 = text_0.replace(\"\\n\",\" \")\n",
    "    text_2 = text_1.replace(\",\",\" \")\n",
    "    text_3 = text_2.replace(\":\",\" \")\n",
    "    text_4 = text_3.replace(\"*\",\" \")\n",
    "    text_5 = text_4.replace(\"–\",\" \")\n",
    "    text_6 = text_5.replace(\"'\",\" \")\n",
    "    text_7 = text_6.replace(\"”\",\" \")\n",
    "    text_ren = text_7.replace(\"-\",\" \")\n",
    "    text_lav = text_ren.lower()\n",
    "    text_token = text_lav.split(\".\")\n",
    "    return text_token"
   ]
  },
  {
   "cell_type": "markdown",
   "metadata": {},
   "source": [
    "# 2. Konstruktion af data frame"
   ]
  },
  {
   "cell_type": "markdown",
   "metadata": {},
   "source": [
    "### Import af tekster\n",
    "Vi skal arbejde videre med Herman Bang-teksterne, så vi genbruger import-loopet fra sidst. Ved hjælp af loopet, henter vi teksterne i filmappen på computeren, åbner dem, indlæser dem og tilføjer dem til listen 'romaner'."
   ]
  },
  {
   "cell_type": "code",
   "execution_count": null,
   "metadata": {},
   "outputs": [],
   "source": [
    "romaner = []\n",
    "\n",
    "for roman in os.scandir(r'C:\\Users\\au100440\\Desktop\\1_Tæl din tekst\\Jupyter_scripts\\Bang'):\n",
    "    x = open(roman, encoding = \"utf8\")\n",
    "    romaner.append(x.read())"
   ]
  },
  {
   "cell_type": "markdown",
   "metadata": {},
   "source": [
    "### Forbered metadata\n",
    "Afhængigt af hvorfra ens data stammer. Kan metadata komme i forskellige formater. I dette tilfælde er teksterne downloadede fra [Project Guthenberg's](http://www.gutenberg.org/) hjemmside, og der er ingen medfølgende metadata. Når der ikke er tale om flere tekster, er det imidlertid let at håndkode lister med de metadata, vi skal bruge.\n",
    "\n"
   ]
  },
  {
   "cell_type": "markdown",
   "metadata": {},
   "source": [
    "Vi skal også bruge en liste med teksternes **titler**. Hvis I selv håndkoder metadata på denne måde, er det vigtigt at være opmærksom på, at informationerne kommer i den **rigtige rækkefølge**, så de kommer til at matche de rigtige tekster, når de indsættes i data-framen."
   ]
  },
  {
   "cell_type": "code",
   "execution_count": null,
   "metadata": {},
   "outputs": [],
   "source": [
    "titler = [\"Det graa hus\", \"Det hvide hus\", \"Enkens søn\", \"Excentriske noveller\", \"Faedra\", \"Haabløse slægter\", \"Hendes højhed\", \"Ludvigsbakke\", \"Min gamle kammerat\", \"Stuk\", \"Tine\", \"Ved vejen\"]"
   ]
  },
  {
   "cell_type": "markdown",
   "metadata": {},
   "source": [
    "### Konstruér data frame"
   ]
  },
  {
   "cell_type": "markdown",
   "metadata": {},
   "source": [
    "Herefter kan vi lave en data-frame ved hjælp af `pd.DataFrame()`-kommandoen.\n",
    "\n",
    "I eksemplet nedenfor konstrueres data-framen ved hjælp af såkaldte `dictionaries`, der kan kendes på Tuborg-parenteserne `{ }`. I kan tænke på *dictionaries* som en måde at lave en liste over variabel-navne med tilhørende værdier. Første led i en dictionary kaldes dens `key`, og andet led kaldes dens `value`.\n",
    "\n",
    "I eksemplet nedenfor kombinerer vi to dictionaries til en data-frame. Den første har strengen `'Titler'` som *key* og listen `titler`som *value*, og den anden har `Key/Value`-parret `'Tekst'` og `romaner`.\n",
    "\n",
    "Når vi kontruerer vores dataframe, bliver `Key` til navnet på kolonnen, mens indholdet af listerne indlæses som værdier.\n",
    "\n",
    "**Konstruer** en data-frame med følgende kommando:\n",
    "\n",
    "`df_bang = pd.DataFrame({'Titler': titler, 'Tekst':romaner})`\n"
   ]
  },
  {
   "cell_type": "code",
   "execution_count": null,
   "metadata": {},
   "outputs": [],
   "source": []
  },
  {
   "cell_type": "markdown",
   "metadata": {},
   "source": [
    "### Inspicér data frame\n",
    "Hvis vi arbejder med meget store data-frames, kan vi nøjes med at se enten de **første** eller de **sidste** rækker ved hjælp af kommandoerne `.head()` og `.tail()`. \n",
    "\n",
    "Der vises som default fem rækker. Hvis vi vil se flere eller færre, kan antallet specificeres i parentesen.\n",
    "\n",
    "**Afprøv** følgende kommandoer: <br>\n",
    "`df_bang.head()` <br> \n",
    "`df_bang.head()` <br>\n",
    "`df_bang.tail(3)` <br>"
   ]
  },
  {
   "cell_type": "code",
   "execution_count": null,
   "metadata": {},
   "outputs": [],
   "source": []
  },
  {
   "cell_type": "markdown",
   "metadata": {},
   "source": [
    "### Slicing med `.loc()`"
   ]
  },
  {
   "cell_type": "markdown",
   "metadata": {},
   "source": [
    "Med kommandoen `.loc[]` kan vi let finde (**loc**ate) specifikke placeringer i en data frame. `.loc[]` tager to argumenter: 1) udsnit af rækker (lodret), 2) udsnit af kolonner (vandret).\n",
    "\n",
    "Kommandoen skrives på følgende måde: `df_bang.loc[0:4,\"Titler\":\"Tekst\"]`\n",
    "\n",
    "Læses: returnér rækkerne 0 til og med 4 fra kolonnerne 'Titler' til og med 'Tekst' fra data-framen df_bang.\n",
    "\n",
    "**Afprøv** koden i feltet nedenfor."
   ]
  },
  {
   "cell_type": "code",
   "execution_count": null,
   "metadata": {},
   "outputs": [],
   "source": []
  },
  {
   "cell_type": "markdown",
   "metadata": {},
   "source": [
    "Hvis I kun skriver `:` returneres alle rækker/kolonner\n",
    "\n",
    "**Afprøv** følgende eksempler i feltet nedenfor. **Hvilket** output forventer I af de forskellige kommandoer?\n",
    "\n",
    "`df_bang.loc[3:7,:]`<br>\n",
    "`df_bang.loc[:,\"Tekst\"]`<br>\n",
    "`df_bang.loc[3,:]`<br>"
   ]
  },
  {
   "cell_type": "code",
   "execution_count": null,
   "metadata": {},
   "outputs": [],
   "source": []
  },
  {
   "cell_type": "markdown",
   "metadata": {},
   "source": [
    "### Tilføj kolonne med årstal med `.loc()`\n",
    "Vi kan også bruge `.loc[]` i kombination med andre kommandoer, fx hvis vi skal tilføje en ekstra kolonne til vores `data frame`.\n",
    "\n",
    "Først gemmer vi en `liste` med teksterners udgivelsesår under variabelnavnet `udgAar`."
   ]
  },
  {
   "cell_type": "code",
   "execution_count": null,
   "metadata": {},
   "outputs": [],
   "source": [
    "udgAar = [1901, 1898, 1886, 1885, 1883, 1880, 1886, 1896, 1886, 1887, 1889, 1886]"
   ]
  },
  {
   "cell_type": "markdown",
   "metadata": {},
   "source": [
    "Herefter kan vi tilføje listen som en ny kolonne til vores `data frame` med følgende kommando:\n",
    "\n",
    "`df_bang.loc[:,'Udgivelsesår'] = udgAar`.\n",
    "\n",
    "Hvis I læser kommandoen bagfra, bliver det noget i retning af 'tilføj værdierne fra variablen 'udgAar' til alle rækker i kolonnen \"Udgivelsesår\" i data framen df_bang'. **Bemærk** at det ikke er nødvendigt at oprette en tom kolonne først. \n",
    "\n",
    "**Afprøv** komandoen i kodefeltet nedenfor, og **inspicér** derefter resultatet ved hjælp af `.loc[]`-kommandoen."
   ]
  },
  {
   "cell_type": "code",
   "execution_count": null,
   "metadata": {},
   "outputs": [],
   "source": []
  },
  {
   "cell_type": "markdown",
   "metadata": {},
   "source": [
    "### Tilføj kolonne med forfatter med `.loc()`"
   ]
  },
  {
   "cell_type": "markdown",
   "metadata": {},
   "source": [
    "Hvis vi har brug for at lave en kolonne, hvor alle felterne har samme indhold, fx et forfatternavn, kan vi også bruge `.loc()`. I dette tilfælde er det ikke nødvendigt at lave en liste først. Vi kan nøjes med følgende kommando:\n",
    "\n",
    "`df_bang.loc[:,\"Forfatter\"] = \"Herman Bang\"`\n",
    "\n",
    "Læses: Tilføj \"Herman Bang\" til alle rækker (:) i kolonnen \"Forfatter\".\n",
    "\n",
    "**Afprøv** koden i feltet nedenfor og **inspicér** derefter data-framen for at tjekke, at outputtet ser ud som det skal."
   ]
  },
  {
   "cell_type": "code",
   "execution_count": null,
   "metadata": {},
   "outputs": [],
   "source": []
  },
  {
   "cell_type": "markdown",
   "metadata": {},
   "source": [
    "### Arranger kolonner med `.reindex()`\n",
    "Når vi tilføjer nye kolonner til en eksisterende data-frame, tilføjes den nye kolonne som default længst til højre. Hvis vi ønsker en anden rækkefølge kan vi bruge kommandoen `.reindex()`. \n",
    "\n",
    "**Afprøv** følgende eksempel i kodefeltet nedenfor:\n",
    "\n",
    "`df_bang = df_bang.reindex(columns = ['Forfatter', 'Titler', 'Udgivelsesår', 'Tekst'])`\n",
    "\n",
    "**Diskutér** hvad der sker. **Hvordan** læses kodesekvensen?\n",
    "\n",
    "**Inspicér** data-framen for at se resultatet."
   ]
  },
  {
   "cell_type": "code",
   "execution_count": null,
   "metadata": {},
   "outputs": [],
   "source": []
  },
  {
   "cell_type": "markdown",
   "metadata": {},
   "source": [
    "# 3. Loop over data frame med `.apply()` og *list comprehension* "
   ]
  },
  {
   "cell_type": "markdown",
   "metadata": {},
   "source": [
    "Der er mange forskellige måder at loope over dataframes. Her skal vi se nærmere på to forskellige muligheder. Den ene er en Pandas-method (.apply) og den anden er en generel pyhthon-metode til at lave lister (list comprehension). De er teknisk set lidt forskellige, men i vores sammenhæng betyder det ikke så meget, og I kan derfor bruge den metode I synes bedst om."
   ]
  },
  {
   "cell_type": "markdown",
   "metadata": {},
   "source": [
    "### Andvend funktioner på kolonner med `.apply()`"
   ]
  },
  {
   "cell_type": "markdown",
   "metadata": {},
   "source": [
    "For andvende `.apply()` er det nødvendigt (som vi allerede har gjort ovenfor) først at importere Pandas.\n",
    "\n",
    "Kommandoen `.apply()` bruges til at anvende (apply) en funktion, fx én man selv har defineret, på alle elementer i en kolonne.\n",
    "\n",
    "I dette eksempel anvender vi funktionen `rens_ord` (som vi definerede øverst) på alle elementerne i kolonnen \"Tekst\" fra vores data-frame **df_bang** og gemmer outputtet under kolonnenavnet \"renTxtOrd\". Funktionaliteten afspejles direkte i syntaksen. **Prøv** at læse kodeeksemplet bagfra:\n",
    "\n",
    "`df_bang[\"renTxtOrd\"] = df_bang.Tekst.apply(rens_ord)`\n",
    "\n",
    "**Outputtet** er en ny kolonne der indeholder de rensede tekster splittet i ord, dvs. delt ved blanktegn.\n",
    "\n",
    "**Afprøv** eksempelet i kodefeltet nedenfor:"
   ]
  },
  {
   "cell_type": "code",
   "execution_count": null,
   "metadata": {},
   "outputs": [],
   "source": []
  },
  {
   "cell_type": "markdown",
   "metadata": {},
   "source": [
    "Herefter kan vi gøre det samme med funktionen `len()`, så vi også får en kolonne med antallet af ord per tekst. Syntaksen er den samme som i eksemplet ovenfor.\n",
    "\n",
    "`df_bang[\"antalOrd\"] = df_bang.renTxtOrd.apply(len)`\n",
    "\n",
    "**Afprøv** eksemplet i kodefeltet nedenfor. **Inspicér** derefter data-framen for at tjek at alt er i orden."
   ]
  },
  {
   "cell_type": "code",
   "execution_count": null,
   "metadata": {},
   "outputs": [],
   "source": []
  },
  {
   "cell_type": "markdown",
   "metadata": {},
   "source": [
    "### Anvend funktioner på kolonner med *list comprehension*"
   ]
  },
  {
   "cell_type": "markdown",
   "metadata": {},
   "source": [
    "Som et alternativ til `.apply()` kan vi anvende *list comprehension*. De to metoder minder meget om hinanden, og outputtet er i vores eksempler også det samme, nemlig en ny kolonne der rummer resultatet af anvende en funktion på indholdet af en eksisterende kolonne. I modsætning til `.apply()` har *list comprehension* den fordel, at den ikke er afhænging af Pandas.\n",
    "\n",
    "Syntaksen minder lidt om det vi kender fra et `for loop`. I eksemplet nedenfor er `txt`et variabelnavn, der frit kan udskiftes. \n",
    "\n",
    "`df_bang['renTxtSæt'] = [rens_sæt(txt) for txt in df_bang['Tekst']]`\n",
    "\n",
    "Læses: Lav en ny liste ved at anvende funktionen **rens_sæt** på alle elementer i kolonnen 'Tekst' i df_bang og gem outputtet i kolonnen 'renTxtSæt'.\n",
    "\n",
    "**Afprøv** eksemplet i kodefeltet nedenfor. **Inspicér** derefter data-framen for at tjek at alt er i orden."
   ]
  },
  {
   "cell_type": "code",
   "execution_count": null,
   "metadata": {},
   "outputs": [],
   "source": []
  },
  {
   "cell_type": "markdown",
   "metadata": {},
   "source": [
    "Herefter kan vi gøre det samme med `len()` funktionen, så vi også får en kolonne med antallet af sætninger for hver tekst. Syntaksen er den samme som før.\n",
    "\n",
    "`df_bang[\"antalSæt\"] = [len(txt) for txt in df_bang[\"renTxtSæt\"]]`\n",
    "\n",
    "Vi kan også lave en kolonne med antallet af tegn per tekst.\n",
    "\n",
    "\n",
    "`df_bang[\"antalTegn\"] = [len(txt) for txt in df_bang[\"Tekst\"]]`\n",
    "\n",
    "**Hvad er forskellen** på de to linjer kode? **Hvorfor** tæller den ene sætninger og den anden tegn?\n",
    "\n",
    "**Afprøv** eksemplerne i kodefeltet nedenfor. **Inspicér** derefter data-framen for at tjek at alt er i orden.\n",
    "\n",
    "\n",
    "\n"
   ]
  },
  {
   "cell_type": "code",
   "execution_count": null,
   "metadata": {},
   "outputs": [],
   "source": []
  },
  {
   "cell_type": "markdown",
   "metadata": {},
   "source": [
    "**Inspicér** datframen med følgende kommando. **Hvad** forventer I at se?\n",
    "\n",
    "`df_bang.loc[0:2, \"Tekst\":\"antalTegn\"]`"
   ]
  },
  {
   "cell_type": "code",
   "execution_count": null,
   "metadata": {},
   "outputs": [],
   "source": []
  },
  {
   "cell_type": "markdown",
   "metadata": {},
   "source": [
    "### Statistisk overblik\n",
    "I kan få iet hurtigt overblik over indholdet af data-framen med kommandoen `df_bang.describe()`. Funktionen giver os bl.a. *gennemsnit* og *standardafvigelse* for alle de kolonner, der indeholder talværdier,"
   ]
  },
  {
   "cell_type": "code",
   "execution_count": null,
   "metadata": {},
   "outputs": [],
   "source": []
  },
  {
   "cell_type": "markdown",
   "metadata": {},
   "source": [
    "# Gennemsnitlig sætningslængde\n",
    "Hvis vi vil lave simple beregninger på indholdet kolonnerne, fx udregne den gennemsnitlige sætningslængde, er det ikke nødvendigt at skrive et loop. Vi kan bare dividere den ene kolonne med den anden: \n",
    "\n",
    "`df_bang[\"gnmsSætLæng\"] = df_bang[\"antalOrd\"]/df_bang[\"antalSæt\"]`\n",
    "\n",
    "Læses: Dividér (/) indholdet af kolonnen 'antalOrd' med indholdet af kolonnen 'antalSæt' og gem outputtet i kolennen 'gnmsSætLæng'.\n",
    "\n",
    "**Afprøv** eksemplet i kodefeltet nedenfor. **Inspicér** derefter data-framen for at tjek at alt er i orden."
   ]
  },
  {
   "cell_type": "code",
   "execution_count": null,
   "metadata": {},
   "outputs": [],
   "source": []
  },
  {
   "cell_type": "markdown",
   "metadata": {},
   "source": [
    "# Gem data frame som csv-fil\n",
    "For at gemme data-framen som csv-fil skal i bruge følgende kommando. Filnavnet er naturligvis valgfrit:\n",
    "\n",
    "`df_bang.to_csv('bang_datasæt_renset.csv', index=False)`\n",
    "\n",
    "Tilføjelsen `index=False` sikrer, at data-framen ikke gemmes med det automatisk generede index (første kolonne: 0, 1, 2, osv.). Der genereres som default et nyt index, hver gang data-framen åbnes, og vi ville derfor have først to, så tre indekser osv., hvis vi gemmer indekse hver gang.\n",
    "\n",
    "Filen gemmes som default i den fil-mappe, hvori scriptet er gemt.\n",
    "\n",
    "**Gem** data-framen."
   ]
  },
  {
   "cell_type": "code",
   "execution_count": null,
   "metadata": {},
   "outputs": [],
   "source": []
  },
  {
   "cell_type": "markdown",
   "metadata": {},
   "source": [
    "# Ekstra: Loops med `.iterrows()` , `.iteritems()` og `.map()`\n",
    "\n",
    "Hvis I har tid tilovers, kan I eksperimentere med `.iterrows()` , `.iteritems()` og `.map()`. Disse funktioner fungerer også som loops. `.iterrows()` læser rækkevis, mens `.iteritems()` læser kolonnevis. Funktionen `.map()` 'oversætter' systematisk et element til et andet.\n",
    "\n",
    "Af forskellige tekniske grunde skal I kun bruge disse funktioner til at læse indholdet af data-frames. Hvis I vil anvende funktioner, skal i bruge en af de metoder, vi har kigget på ovenfor.\n",
    "\n",
    "**Afprøv**, **inspicér** og **diskutér** syntaks og output.\n"
   ]
  },
  {
   "cell_type": "code",
   "execution_count": null,
   "metadata": {},
   "outputs": [],
   "source": [
    "for nummer, række in df_bang.iterrows():\n",
    "    print(str(række[\"Titler\"]) + \" er udgivet i \" + str(række[\"Udgivelsesår\"]))    "
   ]
  },
  {
   "cell_type": "code",
   "execution_count": null,
   "metadata": {},
   "outputs": [],
   "source": [
    "for kolonne, indhold in df_bang.iteritems():\n",
    "    print('kolonnenavn:', kolonne)\n",
    "    print('indhold:', indhold)"
   ]
  },
  {
   "cell_type": "code",
   "execution_count": null,
   "metadata": {},
   "outputs": [],
   "source": [
    "df_bang[\"Initialer\"] = df_bang.Forfatter.map({\"Herman Bang\": \"HB\"})"
   ]
  },
  {
   "cell_type": "code",
   "execution_count": null,
   "metadata": {},
   "outputs": [],
   "source": [
    "df_bang.head()"
   ]
  }
 ],
 "metadata": {
  "kernelspec": {
   "display_name": "Python 3",
   "language": "python",
   "name": "python3"
  },
  "language_info": {
   "codemirror_mode": {
    "name": "ipython",
    "version": 3
   },
   "file_extension": ".py",
   "mimetype": "text/x-python",
   "name": "python",
   "nbconvert_exporter": "python",
   "pygments_lexer": "ipython3",
   "version": "3.8.8"
  }
 },
 "nbformat": 4,
 "nbformat_minor": 4
}
